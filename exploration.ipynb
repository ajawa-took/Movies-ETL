{
 "cells": [
  {
   "cell_type": "code",
   "execution_count": 1,
   "id": "cf6e6f88",
   "metadata": {},
   "outputs": [],
   "source": [
    "import json\n",
    "import pandas as pd\n",
    "import numpy as np"
   ]
  },
  {
   "cell_type": "code",
   "execution_count": 2,
   "id": "57985732",
   "metadata": {},
   "outputs": [],
   "source": [
    "# changed and escaped slashes in path, as i'm on windows\n",
    "file_dir = \"C:\\\\Users\\\\me\\\\Desktop\\\\0 berbooca\\\\github\\\\Movies-ETL\\\\\""
   ]
  },
  {
   "cell_type": "markdown",
   "id": "8d618b42",
   "metadata": {},
   "source": [
    "### wikimedia"
   ]
  },
  {
   "cell_type": "code",
   "execution_count": 3,
   "id": "e0fab0dc",
   "metadata": {},
   "outputs": [],
   "source": [
    "raw_file = f\"{file_dir}wikipedia-movies.json\"\n",
    "with open(raw_file, mode='r') as file:\n",
    "    wiki_movies_raw = json.load(file)"
   ]
  },
  {
   "cell_type": "code",
   "execution_count": 4,
   "id": "c0ba0b4a",
   "metadata": {},
   "outputs": [
    {
     "name": "stdout",
     "output_type": "stream",
     "text": [
      "wiki_movies_raw has 7311 records\n",
      "wiki_movies_raw is a <class 'list'>\n"
     ]
    },
    {
     "data": {
      "text/plain": [
       "{'url': 'https://en.wikipedia.org/wiki/11:14',\n",
       " 'year': 2003,\n",
       " 'imdb_link': 'https://www.imdb.com/title/tt0331811/',\n",
       " 'title': '11:14',\n",
       " 'Directed by': 'Greg Marcks',\n",
       " 'Produced by': ['Mark Damon',\n",
       "  'Stewart Hall',\n",
       "  'Jeff Kwatinetz',\n",
       "  'Sammy Lee',\n",
       "  'David Rubin',\n",
       "  'Hilary Swank',\n",
       "  'Tripp Vinson',\n",
       "  'Beau Flynn',\n",
       "  'John Morrissey',\n",
       "  'Raju Patel'],\n",
       " 'Written by': 'Greg Marcks',\n",
       " 'Starring': ['Rachael Leigh Cook',\n",
       "  'Ben Foster',\n",
       "  'Clark Gregg',\n",
       "  'Colin Hanks',\n",
       "  'Shawn Hatosy',\n",
       "  'Barbara Hershey',\n",
       "  'Stark Sands',\n",
       "  'Hilary Swank',\n",
       "  'Patrick Swayze',\n",
       "  'Henry Thomas'],\n",
       " 'Music by': 'Clint Mansell',\n",
       " 'Cinematography': 'Shane Hurlbut',\n",
       " 'Edited by': ['Dan Lebental', 'Richard Nord'],\n",
       " 'Productioncompany ': 'Media 8 Entertainment',\n",
       " 'Distributed by': 'New Line Cinema',\n",
       " 'Release date': ['May 16, 2003', '(', '2003-05-16', ')'],\n",
       " 'Running time': '86 minutes',\n",
       " 'Country': ['United States', 'Canada'],\n",
       " 'Language': 'English',\n",
       " 'Budget': '$6 million'}"
      ]
     },
     "execution_count": 4,
     "metadata": {},
     "output_type": "execute_result"
    }
   ],
   "source": [
    "print(f\"wiki_movies_raw has {len(wiki_movies_raw)} records\")\n",
    "print(f\"wiki_movies_raw is a {type(wiki_movies_raw)}\")\n",
    "wiki_movies_raw[3358]"
   ]
  },
  {
   "cell_type": "code",
   "execution_count": 5,
   "id": "1a5001ce",
   "metadata": {},
   "outputs": [],
   "source": [
    "wiki_movies_df = pd.DataFrame(wiki_movies_raw)"
   ]
  },
  {
   "cell_type": "code",
   "execution_count": null,
   "id": "746a429e",
   "metadata": {},
   "outputs": [],
   "source": [
    "# initial exploration, not needed later\n",
    "col_list = wiki_movies_df.columns.tolist()\n",
    "print(f\"this dataframe got {len(col_list)} columns - too many!\")"
   ]
  },
  {
   "cell_type": "code",
   "execution_count": 6,
   "id": "13f64e67",
   "metadata": {},
   "outputs": [
    {
     "data": {
      "text/plain": [
       "7076"
      ]
     },
     "execution_count": 6,
     "metadata": {},
     "output_type": "execute_result"
    }
   ],
   "source": [
    "# as suggested by module\n",
    "wiki_movies = [movie for movie in wiki_movies_raw\n",
    "               if ('Director' in movie or 'Directed by' in movie)\n",
    "                   and 'imdb_link' in movie\n",
    "                   and 'No. of episodes' not in movie]\n",
    "\n",
    "len(wiki_movies)\n",
    "# lost 311+24 = 335"
   ]
  },
  {
   "cell_type": "code",
   "execution_count": 7,
   "id": "e90b9088",
   "metadata": {},
   "outputs": [
    {
     "name": "stdout",
     "output_type": "stream",
     "text": [
      "now we got 75 columns, and here they are\n"
     ]
    },
    {
     "data": {
      "text/plain": [
       "['url',\n",
       " 'year',\n",
       " 'imdb_link',\n",
       " 'title',\n",
       " 'Directed by',\n",
       " 'Produced by',\n",
       " 'Screenplay by',\n",
       " 'Story by',\n",
       " 'Based on',\n",
       " 'Starring',\n",
       " 'Narrated by',\n",
       " 'Music by',\n",
       " 'Cinematography',\n",
       " 'Edited by',\n",
       " 'Productioncompany ',\n",
       " 'Distributed by',\n",
       " 'Release date',\n",
       " 'Running time',\n",
       " 'Country',\n",
       " 'Language',\n",
       " 'Budget',\n",
       " 'Box office',\n",
       " 'Written by',\n",
       " 'Genre',\n",
       " 'Theme music composer',\n",
       " 'Country of origin',\n",
       " 'Original language(s)',\n",
       " 'Producer(s)',\n",
       " 'Editor(s)',\n",
       " 'Production company(s)',\n",
       " 'Original network',\n",
       " 'Original release',\n",
       " 'Productioncompanies ',\n",
       " 'Executive producer(s)',\n",
       " 'Production location(s)',\n",
       " 'Distributor',\n",
       " 'Picture format',\n",
       " 'Audio format',\n",
       " 'Voices of',\n",
       " 'Followed by',\n",
       " 'Composer(s)',\n",
       " 'Created by',\n",
       " 'Preceded by',\n",
       " 'Adaptation by',\n",
       " 'Suggested by',\n",
       " 'Traditional',\n",
       " 'Mandarin',\n",
       " 'Released',\n",
       " 'Recorded',\n",
       " 'Venue',\n",
       " 'Length',\n",
       " 'Label',\n",
       " 'Director',\n",
       " 'Producer',\n",
       " 'Also known as',\n",
       " 'Animation by',\n",
       " 'Color process',\n",
       " 'Simplified',\n",
       " 'French',\n",
       " 'Screen story by',\n",
       " 'Hangul',\n",
       " 'Revised Romanization',\n",
       " 'McCune–Reischauer',\n",
       " 'Original title',\n",
       " 'Japanese',\n",
       " 'Hepburn',\n",
       " 'Literally',\n",
       " 'Cantonese',\n",
       " 'Chinese',\n",
       " 'Yiddish',\n",
       " 'Arabic',\n",
       " 'Romanized',\n",
       " 'Russian',\n",
       " 'Hebrew',\n",
       " 'Polish']"
      ]
     },
     "execution_count": 7,
     "metadata": {},
     "output_type": "execute_result"
    }
   ],
   "source": [
    "wiki_movies_df = pd.DataFrame(wiki_movies)\n",
    "col_list = wiki_movies_df.columns.tolist()\n",
    "print(f\"now we got {len(col_list)} columns, and here they are\")\n",
    "col_list"
   ]
  },
  {
   "cell_type": "code",
   "execution_count": null,
   "id": "5ccf5d9c",
   "metadata": {},
   "outputs": [],
   "source": [
    "wiki_movies_df[\"Starring\"]\n",
    "# beware, beware: mutable entries in a df are passed-by-reference, even with .copy() !!"
   ]
  },
  {
   "cell_type": "code",
   "execution_count": 8,
   "id": "42196337",
   "metadata": {},
   "outputs": [
    {
     "data": {
      "text/plain": [
       "{'url': 7076,\n",
       " 'imdb_link': 7076,\n",
       " 'year': 7076,\n",
       " 'title': 7075,\n",
       " 'Directed by': 7074,\n",
       " 'Running time': 6934,\n",
       " 'Starring': 6892,\n",
       " 'Release date': 6883,\n",
       " 'Language': 6832,\n",
       " 'Produced by': 6716,\n",
       " 'Country': 6685,\n",
       " 'Distributed by': 6579,\n",
       " 'Music by': 6482,\n",
       " 'Edited by': 6379,\n",
       " 'Cinematography': 6378,\n",
       " 'Box office': 5517,\n",
       " 'Budget': 4764,\n",
       " 'Written by': 4575,\n",
       " 'Productioncompany ': 4529,\n",
       " 'Screenplay by': 2318,\n",
       " 'Based on': 2190,\n",
       " 'Story by': 1002,\n",
       " 'Productioncompanies ': 728,\n",
       " 'Narrated by': 282,\n",
       " 'Original release': 159,\n",
       " 'Original language(s)': 158,\n",
       " 'Producer(s)': 156,\n",
       " 'Country of origin': 152,\n",
       " 'Editor(s)': 146,\n",
       " 'Distributor': 138,\n",
       " 'Production company(s)': 131,\n",
       " 'Original network': 125,\n",
       " 'Genre': 110,\n",
       " 'Executive producer(s)': 97,\n",
       " 'Theme music composer': 67,\n",
       " 'Picture format': 64,\n",
       " 'Audio format': 61,\n",
       " 'Production location(s)': 47,\n",
       " 'Created by': 10,\n",
       " 'Preceded by': 10,\n",
       " 'Followed by': 9,\n",
       " 'Composer(s)': 8,\n",
       " 'Traditional': 5,\n",
       " 'Simplified': 4,\n",
       " 'Hepburn': 4,\n",
       " 'Japanese': 4,\n",
       " 'Mandarin': 4,\n",
       " 'Literally': 3,\n",
       " 'Recorded': 2,\n",
       " 'Voices of': 2,\n",
       " 'Adaptation by': 2,\n",
       " 'McCune–Reischauer': 2,\n",
       " 'Revised Romanization': 2,\n",
       " 'Hangul': 2,\n",
       " 'Arabic': 2,\n",
       " 'Released': 2,\n",
       " 'Animation by': 2,\n",
       " 'Romanized': 2,\n",
       " 'Producer': 2,\n",
       " 'Label': 2,\n",
       " 'Length': 2,\n",
       " 'Director': 2,\n",
       " 'Russian': 1,\n",
       " 'Yiddish': 1,\n",
       " 'Cantonese': 1,\n",
       " 'Chinese': 1,\n",
       " 'Hebrew': 1,\n",
       " 'Color process': 1,\n",
       " 'Original title': 1,\n",
       " 'Screen story by': 1,\n",
       " 'French': 1,\n",
       " 'Also known as': 1,\n",
       " 'Venue': 1,\n",
       " 'Suggested by': 1,\n",
       " 'Polish': 1}"
      ]
     },
     "execution_count": 8,
     "metadata": {},
     "output_type": "execute_result"
    }
   ],
   "source": [
    "wiki_cts = wiki_movies_df.count().sort_values(ascending=False)\n",
    "wiki_cts_df = pd.DataFrame(wiki_cts)\n",
    "wiki_cts_df.to_csv('wikicounts.csv')\n",
    "wiki_cts.to_dict()"
   ]
  },
  {
   "cell_type": "code",
   "execution_count": 9,
   "id": "8b96cd56",
   "metadata": {
    "scrolled": false
   },
   "outputs": [
    {
     "data": {
      "text/html": [
       "<div>\n",
       "<style scoped>\n",
       "    .dataframe tbody tr th:only-of-type {\n",
       "        vertical-align: middle;\n",
       "    }\n",
       "\n",
       "    .dataframe tbody tr th {\n",
       "        vertical-align: top;\n",
       "    }\n",
       "\n",
       "    .dataframe thead th {\n",
       "        text-align: right;\n",
       "    }\n",
       "</style>\n",
       "<table border=\"1\" class=\"dataframe\">\n",
       "  <thead>\n",
       "    <tr style=\"text-align: right;\">\n",
       "      <th></th>\n",
       "      <th>996</th>\n",
       "    </tr>\n",
       "  </thead>\n",
       "  <tbody>\n",
       "    <tr>\n",
       "      <th>url</th>\n",
       "      <td>https://en.wikipedia.org/wiki/Jacob_(film)</td>\n",
       "    </tr>\n",
       "    <tr>\n",
       "      <th>year</th>\n",
       "      <td>1994</td>\n",
       "    </tr>\n",
       "    <tr>\n",
       "      <th>imdb_link</th>\n",
       "      <td>https://www.imdb.com/title/tt0110175/</td>\n",
       "    </tr>\n",
       "    <tr>\n",
       "      <th>Directed by</th>\n",
       "      <td>Peter Hall</td>\n",
       "    </tr>\n",
       "    <tr>\n",
       "      <th>Starring</th>\n",
       "      <td>[Matthew Modine, Lara Flynn Boyle, Sean Bean, ...</td>\n",
       "    </tr>\n",
       "    <tr>\n",
       "      <th>Music by</th>\n",
       "      <td>Ennio Morricone</td>\n",
       "    </tr>\n",
       "    <tr>\n",
       "      <th>Distributed by</th>\n",
       "      <td>TNT</td>\n",
       "    </tr>\n",
       "    <tr>\n",
       "      <th>Release date</th>\n",
       "      <td>December 4, 1994 (U.S.A.)</td>\n",
       "    </tr>\n",
       "  </tbody>\n",
       "</table>\n",
       "</div>"
      ],
      "text/plain": [
       "                                                              996\n",
       "url                    https://en.wikipedia.org/wiki/Jacob_(film)\n",
       "year                                                         1994\n",
       "imdb_link                   https://www.imdb.com/title/tt0110175/\n",
       "Directed by                                            Peter Hall\n",
       "Starring        [Matthew Modine, Lara Flynn Boyle, Sean Bean, ...\n",
       "Music by                                          Ennio Morricone\n",
       "Distributed by                                                TNT\n",
       "Release date                            December 4, 1994 (U.S.A.)"
      ]
     },
     "execution_count": 9,
     "metadata": {},
     "output_type": "execute_result"
    }
   ],
   "source": [
    "# freak entry with no title, should be \"Jacob\"\n",
    "jacob = wiki_movies_df[wiki_movies_df[\"title\"].isna()].T\n",
    "jacob[jacob[996].isna() == False]"
   ]
  },
  {
   "cell_type": "code",
   "execution_count": 24,
   "id": "e89427dd",
   "metadata": {},
   "outputs": [],
   "source": [
    "# result of my investigation, matches what module gives :)\n",
    "other_title_columns = ['Traditional', 'Simplified', 'Hepburn', 'Japanese', 'Mandarin',\n",
    " 'McCune–Reischauer', 'Revised Romanization', 'Hangul', 'Arabic', 'Romanized', 'Russian',\n",
    " 'Yiddish', 'Cantonese', 'Chinese', 'Hebrew', 'Original title', 'French', 'Also known as',\n",
    " 'Polish', \"Literally\"]"
   ]
  },
  {
   "cell_type": "code",
   "execution_count": 20,
   "id": "b1336010",
   "metadata": {},
   "outputs": [
    {
     "data": {
      "text/plain": [
       "21"
      ]
     },
     "execution_count": 20,
     "metadata": {},
     "output_type": "execute_result"
    }
   ],
   "source": [
    "wiki_movies_df[\"has alt title\"] = False\n",
    "for alt_title in other_title_columns:\n",
    "    wiki_movies_df.loc[wiki_movies_df[alt_title].notnull(), [\"has alt title\"]] = True\n",
    "wiki_movies_df[\"has alt title\"].sum()"
   ]
  },
  {
   "cell_type": "code",
   "execution_count": 21,
   "id": "77bd64c6",
   "metadata": {},
   "outputs": [
    {
     "data": {
      "text/plain": [
       "Marnie of [my] Memories    1\n",
       "Case No. 23                1\n",
       "Shoplifting Family         1\n",
       "Name: Literally, dtype: int64"
      ]
     },
     "execution_count": 21,
     "metadata": {},
     "output_type": "execute_result"
    }
   ],
   "source": [
    "wiki_movies_df[\"Literally\"].value_counts()"
   ]
  },
  {
   "cell_type": "code",
   "execution_count": null,
   "id": "e95a97f5",
   "metadata": {},
   "outputs": [],
   "source": []
  },
  {
   "cell_type": "code",
   "execution_count": null,
   "id": "35763030",
   "metadata": {},
   "outputs": [],
   "source": []
  },
  {
   "cell_type": "code",
   "execution_count": 26,
   "id": "33dd6dfa",
   "metadata": {},
   "outputs": [],
   "source": [
    "# ain't gonna redefine the balue of the input variable, that'll confusel me!\n",
    "def clean_movie(movie):\n",
    "    cp_movie = dict(movie) #create a non-destructive copy\n",
    "    alt_titles_dict = {}\n",
    "    for kee in other_title_columns:\n",
    "        if kee in cp_movie:\n",
    "            alt_titles_dict[kee] = cp_movie[kee]\n",
    "            cp_movie.pop(kee)\n",
    "    if len(alt_titles_dict) > 0:\n",
    "        cp_movie[\"other titles\"] = alt_titles_dict\n",
    "    return cp_movie"
   ]
  },
  {
   "cell_type": "code",
   "execution_count": 27,
   "id": "7cc6e110",
   "metadata": {},
   "outputs": [],
   "source": [
    "clean_movies = [clean_movie(movie) for movie in wiki_movies]"
   ]
  },
  {
   "cell_type": "code",
   "execution_count": 29,
   "id": "4845df13",
   "metadata": {},
   "outputs": [
    {
     "name": "stdout",
     "output_type": "stream",
     "text": [
      "56\n"
     ]
    },
    {
     "data": {
      "text/plain": [
       "{'url': 7076,\n",
       " 'year': 7076,\n",
       " 'imdb_link': 7076,\n",
       " 'title': 7075,\n",
       " 'Directed by': 7074,\n",
       " 'Running time': 6934,\n",
       " 'Starring': 6892,\n",
       " 'Release date': 6883,\n",
       " 'Language': 6832,\n",
       " 'Produced by': 6716,\n",
       " 'Country': 6685,\n",
       " 'Distributed by': 6579,\n",
       " 'Music by': 6482,\n",
       " 'Edited by': 6379,\n",
       " 'Cinematography': 6378,\n",
       " 'Box office': 5517,\n",
       " 'Budget': 4764,\n",
       " 'Written by': 4575,\n",
       " 'Productioncompany ': 4529,\n",
       " 'Screenplay by': 2318,\n",
       " 'Based on': 2190,\n",
       " 'Story by': 1002,\n",
       " 'Productioncompanies ': 728,\n",
       " 'Narrated by': 282,\n",
       " 'Original release': 159,\n",
       " 'Original language(s)': 158,\n",
       " 'Producer(s)': 156,\n",
       " 'Country of origin': 152,\n",
       " 'Editor(s)': 146,\n",
       " 'Distributor': 138,\n",
       " 'Production company(s)': 131,\n",
       " 'Original network': 125,\n",
       " 'Genre': 110,\n",
       " 'Executive producer(s)': 97,\n",
       " 'Theme music composer': 67,\n",
       " 'Picture format': 64,\n",
       " 'Audio format': 61,\n",
       " 'Production location(s)': 47,\n",
       " 'other titles': 21,\n",
       " 'Created by': 10,\n",
       " 'Preceded by': 10,\n",
       " 'Followed by': 9,\n",
       " 'Composer(s)': 8,\n",
       " 'Adaptation by': 2,\n",
       " 'Voices of': 2,\n",
       " 'Released': 2,\n",
       " 'Recorded': 2,\n",
       " 'Length': 2,\n",
       " 'Label': 2,\n",
       " 'Director': 2,\n",
       " 'Producer': 2,\n",
       " 'Animation by': 2,\n",
       " 'Suggested by': 1,\n",
       " 'Venue': 1,\n",
       " 'Color process': 1,\n",
       " 'Screen story by': 1}"
      ]
     },
     "execution_count": 29,
     "metadata": {},
     "output_type": "execute_result"
    }
   ],
   "source": [
    "wiki_movies_df = pd.DataFrame(clean_movies)\n",
    "wiki_cts = wiki_movies_df.count().sort_values(ascending=False)\n",
    "wiki_cts_df = pd.DataFrame(wiki_cts)\n",
    "print(len(wiki_cts_df))\n",
    "wiki_cts.to_dict()"
   ]
  },
  {
   "cell_type": "code",
   "execution_count": null,
   "id": "8fb16b2c",
   "metadata": {},
   "outputs": [],
   "source": []
  },
  {
   "cell_type": "code",
   "execution_count": null,
   "id": "876348c4",
   "metadata": {},
   "outputs": [],
   "source": []
  },
  {
   "cell_type": "code",
   "execution_count": null,
   "id": "f03ffd91",
   "metadata": {},
   "outputs": [],
   "source": []
  },
  {
   "cell_type": "code",
   "execution_count": null,
   "id": "4b5ce1b9",
   "metadata": {},
   "outputs": [],
   "source": []
  },
  {
   "cell_type": "code",
   "execution_count": null,
   "id": "ebade9f3",
   "metadata": {},
   "outputs": [],
   "source": []
  },
  {
   "cell_type": "markdown",
   "id": "fc6a748c",
   "metadata": {},
   "source": [
    "### kaggle"
   ]
  },
  {
   "cell_type": "code",
   "execution_count": null,
   "id": "2b5231ed",
   "metadata": {},
   "outputs": [],
   "source": [
    "kaggle_metadata = pd.read_csv(f'{file_dir}movies_metadata.csv', low_memory=False)\n",
    "ratings = pd.read_csv(f'{file_dir}ratings.csv')"
   ]
  },
  {
   "cell_type": "code",
   "execution_count": null,
   "id": "f79e9243",
   "metadata": {},
   "outputs": [],
   "source": [
    "ratings.sample(3)"
   ]
  },
  {
   "cell_type": "code",
   "execution_count": null,
   "id": "23852ee8",
   "metadata": {},
   "outputs": [],
   "source": [
    "kaggle_metadata.sample(3)"
   ]
  },
  {
   "cell_type": "code",
   "execution_count": null,
   "id": "1de7a1f9",
   "metadata": {},
   "outputs": [],
   "source": [
    "kaggle_metadata.count()"
   ]
  },
  {
   "cell_type": "code",
   "execution_count": null,
   "id": "19c59122",
   "metadata": {},
   "outputs": [],
   "source": [
    "kaggle_metadata.dtypes"
   ]
  },
  {
   "cell_type": "code",
   "execution_count": null,
   "id": "25028c8f",
   "metadata": {},
   "outputs": [],
   "source": [
    "kaggle_metadata[kaggle_metadata[\"vote_count\"].isna()]"
   ]
  },
  {
   "cell_type": "code",
   "execution_count": null,
   "id": "9da351be",
   "metadata": {},
   "outputs": [],
   "source": []
  }
 ],
 "metadata": {
  "kernelspec": {
   "display_name": "Python 3 (ipykernel)",
   "language": "python",
   "name": "python3"
  },
  "language_info": {
   "codemirror_mode": {
    "name": "ipython",
    "version": 3
   },
   "file_extension": ".py",
   "mimetype": "text/x-python",
   "name": "python",
   "nbconvert_exporter": "python",
   "pygments_lexer": "ipython3",
   "version": "3.7.13"
  }
 },
 "nbformat": 4,
 "nbformat_minor": 5
}
