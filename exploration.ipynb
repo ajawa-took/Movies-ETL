{
 "cells": [
  {
   "cell_type": "code",
   "execution_count": 1,
   "id": "cf6e6f88",
   "metadata": {},
   "outputs": [],
   "source": [
    "import json\n",
    "import pandas as pd\n",
    "import numpy as np"
   ]
  },
  {
   "cell_type": "code",
   "execution_count": 2,
   "id": "57985732",
   "metadata": {},
   "outputs": [],
   "source": [
    "# changed and escaped slashes in path, as i'm on windows\n",
    "## SHOULD MAKE THIS RELATIVE, AND SEPARATE FOLDER FOR ALL DATA ##\n",
    "file_dir = \"C:\\\\Users\\\\me\\\\Desktop\\\\0 berbooca\\\\github\\\\Movies-ETL\\\\\""
   ]
  },
  {
   "cell_type": "markdown",
   "id": "8d618b42",
   "metadata": {},
   "source": [
    "### wikimedia"
   ]
  },
  {
   "cell_type": "code",
   "execution_count": 3,
   "id": "e0fab0dc",
   "metadata": {},
   "outputs": [],
   "source": [
    "raw_file = f\"{file_dir}wikipedia-movies.json\"\n",
    "with open(raw_file, mode='r') as file:\n",
    "    wiki_movies_raw = json.load(file)"
   ]
  },
  {
   "cell_type": "code",
   "execution_count": 4,
   "id": "13f64e67",
   "metadata": {},
   "outputs": [
    {
     "data": {
      "text/plain": [
       "7076"
      ]
     },
     "execution_count": 4,
     "metadata": {},
     "output_type": "execute_result"
    }
   ],
   "source": [
    "# as suggested by module, only toss records without imdb_link,\n",
    " # and records w/out director or directed_by\n",
    "wiki_movies = [movie for movie in wiki_movies_raw\n",
    "               if ('Director' in movie or 'Directed by' in movie)\n",
    "                   and 'imdb_link' in movie\n",
    "                   and 'No. of episodes' not in movie]\n",
    "\n",
    "len(wiki_movies)\n",
    "# lost 311+24 = 335"
   ]
  },
  {
   "cell_type": "code",
   "execution_count": 5,
   "id": "32c9bed8",
   "metadata": {},
   "outputs": [],
   "source": [
    "# result of my investigation, matches what module gives :)\n",
    "other_title_columns = ['Traditional', 'Simplified', 'Hepburn', 'Japanese', 'Mandarin',\n",
    " 'McCune–Reischauer', 'Revised Romanization', 'Hangul', 'Arabic', 'Romanized', 'Russian',\n",
    " 'Yiddish', 'Cantonese', 'Chinese', 'Hebrew', 'Original title', 'French', 'Also known as',\n",
    " 'Polish', \"Literally\"]"
   ]
  },
  {
   "cell_type": "code",
   "execution_count": 6,
   "id": "63717df4",
   "metadata": {},
   "outputs": [],
   "source": [
    "# ain't gonna redefine the value of the input variable, that'll confusel me!\n",
    "def clean_movie(movie):\n",
    "    cp_movie = dict(movie) #create a non-destructive copy\n",
    "    alt_titles_dict = {}\n",
    "    for kee in other_title_columns:\n",
    "        if kee in cp_movie:\n",
    "            alt_titles_dict[kee] = cp_movie[kee]\n",
    "            cp_movie.pop(kee)\n",
    "    if len(alt_titles_dict) > 0:\n",
    "        cp_movie[\"other titles\"] = alt_titles_dict\n",
    "    return cp_movie"
   ]
  },
  {
   "cell_type": "code",
   "execution_count": 7,
   "id": "d581619d",
   "metadata": {},
   "outputs": [],
   "source": [
    "clean_movies = [clean_movie(movie) for movie in wiki_movies]"
   ]
  },
  {
   "cell_type": "code",
   "execution_count": 8,
   "id": "e008ca04",
   "metadata": {},
   "outputs": [],
   "source": [
    "wiki_movies_df = pd.DataFrame(clean_movies)"
   ]
  },
  {
   "cell_type": "code",
   "execution_count": 9,
   "id": "242d6c89",
   "metadata": {},
   "outputs": [
    {
     "ename": "TypeError",
     "evalue": "unhashable type: 'list'",
     "output_type": "error",
     "traceback": [
      "\u001b[1;31m---------------------------------------------------------------------------\u001b[0m",
      "\u001b[1;31mTypeError\u001b[0m                                 Traceback (most recent call last)",
      "\u001b[1;32mpandas\\_libs\\hashtable_class_helper.pxi\u001b[0m in \u001b[0;36mpandas._libs.hashtable.PyObjectHashTable.map_locations\u001b[1;34m()\u001b[0m\n",
      "\u001b[1;31mTypeError\u001b[0m: unhashable type: 'list'"
     ]
    },
    {
     "name": "stderr",
     "output_type": "stream",
     "text": [
      "Exception ignored in: 'pandas._libs.index.IndexEngine._call_map_locations'\n",
      "Traceback (most recent call last):\n",
      "  File \"pandas\\_libs\\hashtable_class_helper.pxi\", line 5231, in pandas._libs.hashtable.PyObjectHashTable.map_locations\n",
      "TypeError: unhashable type: 'list'\n"
     ]
    },
    {
     "data": {
      "text/plain": [
       "Kenneth Johnson                                           4\n",
       "[John William Corrington, (novel)]                        1\n",
       "[Willa Cather, (novel)]                                   1\n",
       "Gary Larson                                               1\n",
       "David McCullough                                          1\n",
       "G.D. Gearino (novel)                                      1\n",
       "[Sony Pictures Entertainment, A&E Television Networks]    1\n",
       "Name: Created by, dtype: int64"
      ]
     },
     "execution_count": 9,
     "metadata": {},
     "output_type": "execute_result"
    }
   ],
   "source": [
    "wiki_movies_df[\"Created by\"].value_counts()"
   ]
  },
  {
   "cell_type": "code",
   "execution_count": 10,
   "id": "7c9f3d08",
   "metadata": {},
   "outputs": [
    {
     "ename": "TypeError",
     "evalue": "unhashable type: 'list'",
     "output_type": "error",
     "traceback": [
      "\u001b[1;31m---------------------------------------------------------------------------\u001b[0m",
      "\u001b[1;31mTypeError\u001b[0m                                 Traceback (most recent call last)",
      "\u001b[1;32mpandas\\_libs\\hashtable_class_helper.pxi\u001b[0m in \u001b[0;36mpandas._libs.hashtable.PyObjectHashTable.map_locations\u001b[1;34m()\u001b[0m\n",
      "\u001b[1;31mTypeError\u001b[0m: unhashable type: 'list'"
     ]
    },
    {
     "name": "stderr",
     "output_type": "stream",
     "text": [
      "Exception ignored in: 'pandas._libs.index.IndexEngine._call_map_locations'\n",
      "Traceback (most recent call last):\n",
      "  File \"pandas\\_libs\\hashtable_class_helper.pxi\", line 5231, in pandas._libs.hashtable.PyObjectHashTable.map_locations\n",
      "TypeError: unhashable type: 'list'\n"
     ]
    },
    {
     "data": {
      "text/plain": [
       "HBO                                                                                                                                                  18\n",
       "NBC                                                                                                                                                  12\n",
       "CBS                                                                                                                                                  12\n",
       "ABC                                                                                                                                                  10\n",
       "Buena Vista Television                                                                                                                                9\n",
       "                                                                                                                                                     ..\n",
       "[McDonald's, (sponsorship), Ronald McDonald Children's Charities, (sponsorship), Chuck E. Cheese's, (sponsorship), Buena Vista Home Video, (VHS)]     1\n",
       "[Paramount Television, Showtime Networks]                                                                                                             1\n",
       "Republic Pictures                                                                                                                                     1\n",
       "USA Network                                                                                                                                           1\n",
       "[YouTube, Facebook]                                                                                                                                   1\n",
       "Name: Distributor, Length: 69, dtype: int64"
      ]
     },
     "execution_count": 10,
     "metadata": {},
     "output_type": "execute_result"
    }
   ],
   "source": [
    "wiki_movies_df[\"Distributor\"].value_counts()"
   ]
  },
  {
   "cell_type": "code",
   "execution_count": 12,
   "id": "15a8d3dd",
   "metadata": {},
   "outputs": [
    {
     "data": {
      "text/plain": [
       "3005       [Jonathan Demme, Vincent Landay, Edward Saxon]\n",
       "5406                           [Ted Hope, Miranda Bailey]\n",
       "5515    [Thomas L. Webster, Alain Silver, Karen L. Isaac]\n",
       "6957    [Charles-Marie Anthonioz, Mourad Belkeddar, St...\n",
       "6813    [Eric Newman, David Ayer, Bryan Unkeless, Ted ...\n",
       "4343    [Lati Grobman, Dave Ornston, Richard Salvatore...\n",
       "6940                          [Todd Garner, Mark Steilen]\n",
       "2558    [Francis Ford Coppola, Julie Costanzo, Chris H...\n",
       "895                        [David Heyman, Neal H. Moritz]\n",
       "5651    [Hilary Shor, Lee Daniels, Avi Lerner, Ed Cath...\n",
       "5544                                      Veronica Nickel\n",
       "6532    [Paul M. Brennan, Brad Furman, Miriam Segal, D...\n",
       "4790    [Ari Folman, Serge Lalou, Gerhard Meixner, Yae...\n",
       "231                                   Hal and Jim McElroy\n",
       "1378                        [Sydney Pollack, Scott Rudin]\n",
       "904                                            Jessica Yu\n",
       "1661        [Keith Gordon, Robert B. Weide, Mark Ordesky]\n",
       "2001              [Mitchell Galin, Richard P. Rubinstein]\n",
       "3605                           [Avi Arad, Gale Anne Hurd]\n",
       "3880                    [Anthony Bregman, Bob Stephenson]\n",
       "55                                                    NaN\n",
       "1741              [Mitchell Galin, Richard P. Rubinstein]\n",
       "602                                       Robert Lawrence\n",
       "Name: Produced by, dtype: object"
      ]
     },
     "execution_count": 12,
     "metadata": {},
     "output_type": "execute_result"
    }
   ],
   "source": [
    "wiki_movies_df[\"Produced by\"].sample(23)"
   ]
  },
  {
   "cell_type": "code",
   "execution_count": 27,
   "id": "c263ccf2",
   "metadata": {},
   "outputs": [
    {
     "ename": "KeyError",
     "evalue": "963",
     "output_type": "error",
     "traceback": [
      "\u001b[1;31m---------------------------------------------------------------------------\u001b[0m",
      "\u001b[1;31mKeyError\u001b[0m                                  Traceback (most recent call last)",
      "\u001b[1;32m~\\anaconda3\\envs\\PythonData\\lib\\site-packages\\pandas\\core\\indexes\\base.py\u001b[0m in \u001b[0;36mget_loc\u001b[1;34m(self, key, method, tolerance)\u001b[0m\n\u001b[0;32m   3360\u001b[0m             \u001b[1;32mtry\u001b[0m\u001b[1;33m:\u001b[0m\u001b[1;33m\u001b[0m\u001b[1;33m\u001b[0m\u001b[0m\n\u001b[1;32m-> 3361\u001b[1;33m                 \u001b[1;32mreturn\u001b[0m \u001b[0mself\u001b[0m\u001b[1;33m.\u001b[0m\u001b[0m_engine\u001b[0m\u001b[1;33m.\u001b[0m\u001b[0mget_loc\u001b[0m\u001b[1;33m(\u001b[0m\u001b[0mcasted_key\u001b[0m\u001b[1;33m)\u001b[0m\u001b[1;33m\u001b[0m\u001b[1;33m\u001b[0m\u001b[0m\n\u001b[0m\u001b[0;32m   3362\u001b[0m             \u001b[1;32mexcept\u001b[0m \u001b[0mKeyError\u001b[0m \u001b[1;32mas\u001b[0m \u001b[0merr\u001b[0m\u001b[1;33m:\u001b[0m\u001b[1;33m\u001b[0m\u001b[1;33m\u001b[0m\u001b[0m\n",
      "\u001b[1;32m~\\anaconda3\\envs\\PythonData\\lib\\site-packages\\pandas\\_libs\\index.pyx\u001b[0m in \u001b[0;36mpandas._libs.index.IndexEngine.get_loc\u001b[1;34m()\u001b[0m\n",
      "\u001b[1;32m~\\anaconda3\\envs\\PythonData\\lib\\site-packages\\pandas\\_libs\\index.pyx\u001b[0m in \u001b[0;36mpandas._libs.index.IndexEngine.get_loc\u001b[1;34m()\u001b[0m\n",
      "\u001b[1;32mpandas\\_libs\\hashtable_class_helper.pxi\u001b[0m in \u001b[0;36mpandas._libs.hashtable.PyObjectHashTable.get_item\u001b[1;34m()\u001b[0m\n",
      "\u001b[1;32mpandas\\_libs\\hashtable_class_helper.pxi\u001b[0m in \u001b[0;36mpandas._libs.hashtable.PyObjectHashTable.get_item\u001b[1;34m()\u001b[0m\n",
      "\u001b[1;31mKeyError\u001b[0m: 963",
      "\nThe above exception was the direct cause of the following exception:\n",
      "\u001b[1;31mKeyError\u001b[0m                                  Traceback (most recent call last)",
      "\u001b[1;32m~\\AppData\\Local\\Temp\\ipykernel_9384\\1121595371.py\u001b[0m in \u001b[0;36m<module>\u001b[1;34m\u001b[0m\n\u001b[0;32m      1\u001b[0m \u001b[0mbob\u001b[0m \u001b[1;33m=\u001b[0m \u001b[0mwiki_movies_df\u001b[0m\u001b[1;33m[\u001b[0m\u001b[0mwiki_movies_df\u001b[0m\u001b[1;33m[\u001b[0m\u001b[1;34m\"Recorded\"\u001b[0m\u001b[1;33m]\u001b[0m\u001b[1;33m.\u001b[0m\u001b[0mnotnull\u001b[0m\u001b[1;33m(\u001b[0m\u001b[1;33m)\u001b[0m\u001b[1;33m]\u001b[0m\u001b[1;33m\u001b[0m\u001b[1;33m\u001b[0m\u001b[0m\n\u001b[1;32m----> 2\u001b[1;33m \u001b[0mbob\u001b[0m\u001b[1;33m[\u001b[0m\u001b[0mbob\u001b[0m\u001b[1;33m[\u001b[0m\u001b[1;36m963\u001b[0m\u001b[1;33m]\u001b[0m\u001b[1;33m.\u001b[0m\u001b[0mnotnull\u001b[0m\u001b[1;33m(\u001b[0m\u001b[1;33m)\u001b[0m \u001b[1;33m==\u001b[0m \u001b[1;32mTrue\u001b[0m \u001b[1;32mand\u001b[0m \u001b[0mbob\u001b[0m\u001b[1;33m[\u001b[0m\u001b[1;36m1347\u001b[0m\u001b[1;33m]\u001b[0m\u001b[1;33m.\u001b[0m\u001b[0mnotnull\u001b[0m\u001b[1;33m(\u001b[0m\u001b[1;33m)\u001b[0m \u001b[1;33m==\u001b[0m \u001b[1;32mTrue\u001b[0m\u001b[1;33m]\u001b[0m\u001b[1;33m.\u001b[0m\u001b[0mT\u001b[0m\u001b[1;33m\u001b[0m\u001b[1;33m\u001b[0m\u001b[0m\n\u001b[0m",
      "\u001b[1;32m~\\anaconda3\\envs\\PythonData\\lib\\site-packages\\pandas\\core\\frame.py\u001b[0m in \u001b[0;36m__getitem__\u001b[1;34m(self, key)\u001b[0m\n\u001b[0;32m   3456\u001b[0m             \u001b[1;32mif\u001b[0m \u001b[0mself\u001b[0m\u001b[1;33m.\u001b[0m\u001b[0mcolumns\u001b[0m\u001b[1;33m.\u001b[0m\u001b[0mnlevels\u001b[0m \u001b[1;33m>\u001b[0m \u001b[1;36m1\u001b[0m\u001b[1;33m:\u001b[0m\u001b[1;33m\u001b[0m\u001b[1;33m\u001b[0m\u001b[0m\n\u001b[0;32m   3457\u001b[0m                 \u001b[1;32mreturn\u001b[0m \u001b[0mself\u001b[0m\u001b[1;33m.\u001b[0m\u001b[0m_getitem_multilevel\u001b[0m\u001b[1;33m(\u001b[0m\u001b[0mkey\u001b[0m\u001b[1;33m)\u001b[0m\u001b[1;33m\u001b[0m\u001b[1;33m\u001b[0m\u001b[0m\n\u001b[1;32m-> 3458\u001b[1;33m             \u001b[0mindexer\u001b[0m \u001b[1;33m=\u001b[0m \u001b[0mself\u001b[0m\u001b[1;33m.\u001b[0m\u001b[0mcolumns\u001b[0m\u001b[1;33m.\u001b[0m\u001b[0mget_loc\u001b[0m\u001b[1;33m(\u001b[0m\u001b[0mkey\u001b[0m\u001b[1;33m)\u001b[0m\u001b[1;33m\u001b[0m\u001b[1;33m\u001b[0m\u001b[0m\n\u001b[0m\u001b[0;32m   3459\u001b[0m             \u001b[1;32mif\u001b[0m \u001b[0mis_integer\u001b[0m\u001b[1;33m(\u001b[0m\u001b[0mindexer\u001b[0m\u001b[1;33m)\u001b[0m\u001b[1;33m:\u001b[0m\u001b[1;33m\u001b[0m\u001b[1;33m\u001b[0m\u001b[0m\n\u001b[0;32m   3460\u001b[0m                 \u001b[0mindexer\u001b[0m \u001b[1;33m=\u001b[0m \u001b[1;33m[\u001b[0m\u001b[0mindexer\u001b[0m\u001b[1;33m]\u001b[0m\u001b[1;33m\u001b[0m\u001b[1;33m\u001b[0m\u001b[0m\n",
      "\u001b[1;32m~\\anaconda3\\envs\\PythonData\\lib\\site-packages\\pandas\\core\\indexes\\base.py\u001b[0m in \u001b[0;36mget_loc\u001b[1;34m(self, key, method, tolerance)\u001b[0m\n\u001b[0;32m   3361\u001b[0m                 \u001b[1;32mreturn\u001b[0m \u001b[0mself\u001b[0m\u001b[1;33m.\u001b[0m\u001b[0m_engine\u001b[0m\u001b[1;33m.\u001b[0m\u001b[0mget_loc\u001b[0m\u001b[1;33m(\u001b[0m\u001b[0mcasted_key\u001b[0m\u001b[1;33m)\u001b[0m\u001b[1;33m\u001b[0m\u001b[1;33m\u001b[0m\u001b[0m\n\u001b[0;32m   3362\u001b[0m             \u001b[1;32mexcept\u001b[0m \u001b[0mKeyError\u001b[0m \u001b[1;32mas\u001b[0m \u001b[0merr\u001b[0m\u001b[1;33m:\u001b[0m\u001b[1;33m\u001b[0m\u001b[1;33m\u001b[0m\u001b[0m\n\u001b[1;32m-> 3363\u001b[1;33m                 \u001b[1;32mraise\u001b[0m \u001b[0mKeyError\u001b[0m\u001b[1;33m(\u001b[0m\u001b[0mkey\u001b[0m\u001b[1;33m)\u001b[0m \u001b[1;32mfrom\u001b[0m \u001b[0merr\u001b[0m\u001b[1;33m\u001b[0m\u001b[1;33m\u001b[0m\u001b[0m\n\u001b[0m\u001b[0;32m   3364\u001b[0m \u001b[1;33m\u001b[0m\u001b[0m\n\u001b[0;32m   3365\u001b[0m         \u001b[1;32mif\u001b[0m \u001b[0mis_scalar\u001b[0m\u001b[1;33m(\u001b[0m\u001b[0mkey\u001b[0m\u001b[1;33m)\u001b[0m \u001b[1;32mand\u001b[0m \u001b[0misna\u001b[0m\u001b[1;33m(\u001b[0m\u001b[0mkey\u001b[0m\u001b[1;33m)\u001b[0m \u001b[1;32mand\u001b[0m \u001b[1;32mnot\u001b[0m \u001b[0mself\u001b[0m\u001b[1;33m.\u001b[0m\u001b[0mhasnans\u001b[0m\u001b[1;33m:\u001b[0m\u001b[1;33m\u001b[0m\u001b[1;33m\u001b[0m\u001b[0m\n",
      "\u001b[1;31mKeyError\u001b[0m: 963"
     ]
    }
   ],
   "source": []
  },
  {
   "cell_type": "code",
   "execution_count": null,
   "id": "961191f5",
   "metadata": {},
   "outputs": [],
   "source": []
  },
  {
   "cell_type": "code",
   "execution_count": null,
   "id": "e90b9088",
   "metadata": {},
   "outputs": [],
   "source": []
  },
  {
   "cell_type": "code",
   "execution_count": null,
   "id": "5ccf5d9c",
   "metadata": {},
   "outputs": [],
   "source": [
    "wiki_movies_df[\"Starring\"]\n",
    "# beware, beware: mutable entries in a df are passed-by-reference, even with .copy() !!"
   ]
  },
  {
   "cell_type": "code",
   "execution_count": null,
   "id": "42196337",
   "metadata": {},
   "outputs": [],
   "source": [
    "wiki_cts = wiki_movies_df.count().sort_values(ascending=False)\n",
    "wiki_cts_df = pd.DataFrame(wiki_cts)\n",
    "wiki_cts_df.to_csv('wikicounts.csv')\n",
    "wiki_cts.to_dict()"
   ]
  },
  {
   "cell_type": "code",
   "execution_count": null,
   "id": "8b96cd56",
   "metadata": {
    "scrolled": false
   },
   "outputs": [],
   "source": [
    "# freak entry with no title, should be \"Jacob\"\n",
    "jacob = wiki_movies_df[wiki_movies_df[\"title\"].isna()].T\n",
    "jacob[jacob[996].isna() == False]"
   ]
  },
  {
   "cell_type": "code",
   "execution_count": null,
   "id": "e89427dd",
   "metadata": {},
   "outputs": [],
   "source": []
  },
  {
   "cell_type": "code",
   "execution_count": null,
   "id": "b1336010",
   "metadata": {},
   "outputs": [],
   "source": []
  },
  {
   "cell_type": "code",
   "execution_count": null,
   "id": "77bd64c6",
   "metadata": {},
   "outputs": [],
   "source": []
  },
  {
   "cell_type": "code",
   "execution_count": null,
   "id": "e95a97f5",
   "metadata": {},
   "outputs": [],
   "source": []
  },
  {
   "cell_type": "code",
   "execution_count": null,
   "id": "35763030",
   "metadata": {},
   "outputs": [],
   "source": []
  },
  {
   "cell_type": "code",
   "execution_count": null,
   "id": "33dd6dfa",
   "metadata": {},
   "outputs": [],
   "source": []
  },
  {
   "cell_type": "code",
   "execution_count": null,
   "id": "7cc6e110",
   "metadata": {},
   "outputs": [],
   "source": []
  },
  {
   "cell_type": "code",
   "execution_count": null,
   "id": "4845df13",
   "metadata": {},
   "outputs": [],
   "source": []
  },
  {
   "cell_type": "code",
   "execution_count": null,
   "id": "8fb16b2c",
   "metadata": {},
   "outputs": [],
   "source": []
  },
  {
   "cell_type": "code",
   "execution_count": null,
   "id": "876348c4",
   "metadata": {},
   "outputs": [],
   "source": []
  },
  {
   "cell_type": "code",
   "execution_count": null,
   "id": "f03ffd91",
   "metadata": {},
   "outputs": [],
   "source": []
  },
  {
   "cell_type": "code",
   "execution_count": null,
   "id": "4b5ce1b9",
   "metadata": {},
   "outputs": [],
   "source": []
  },
  {
   "cell_type": "code",
   "execution_count": null,
   "id": "ebade9f3",
   "metadata": {},
   "outputs": [],
   "source": []
  },
  {
   "cell_type": "markdown",
   "id": "fc6a748c",
   "metadata": {},
   "source": [
    "### kaggle"
   ]
  },
  {
   "cell_type": "code",
   "execution_count": null,
   "id": "2b5231ed",
   "metadata": {},
   "outputs": [],
   "source": [
    "kaggle_metadata = pd.read_csv(f'{file_dir}movies_metadata.csv', low_memory=False)\n",
    "ratings = pd.read_csv(f'{file_dir}ratings.csv')"
   ]
  },
  {
   "cell_type": "code",
   "execution_count": null,
   "id": "f79e9243",
   "metadata": {},
   "outputs": [],
   "source": [
    "ratings.sample(3)"
   ]
  },
  {
   "cell_type": "code",
   "execution_count": null,
   "id": "23852ee8",
   "metadata": {},
   "outputs": [],
   "source": [
    "kaggle_metadata.sample(3)"
   ]
  },
  {
   "cell_type": "code",
   "execution_count": null,
   "id": "1de7a1f9",
   "metadata": {},
   "outputs": [],
   "source": [
    "kaggle_metadata.count()"
   ]
  },
  {
   "cell_type": "code",
   "execution_count": null,
   "id": "19c59122",
   "metadata": {},
   "outputs": [],
   "source": [
    "kaggle_metadata.dtypes"
   ]
  },
  {
   "cell_type": "code",
   "execution_count": null,
   "id": "25028c8f",
   "metadata": {},
   "outputs": [],
   "source": [
    "kaggle_metadata[kaggle_metadata[\"vote_count\"].isna()]"
   ]
  },
  {
   "cell_type": "code",
   "execution_count": null,
   "id": "9da351be",
   "metadata": {},
   "outputs": [],
   "source": []
  }
 ],
 "metadata": {
  "kernelspec": {
   "display_name": "Python 3 (ipykernel)",
   "language": "python",
   "name": "python3"
  },
  "language_info": {
   "codemirror_mode": {
    "name": "ipython",
    "version": 3
   },
   "file_extension": ".py",
   "mimetype": "text/x-python",
   "name": "python",
   "nbconvert_exporter": "python",
   "pygments_lexer": "ipython3",
   "version": "3.7.13"
  }
 },
 "nbformat": 4,
 "nbformat_minor": 5
}
