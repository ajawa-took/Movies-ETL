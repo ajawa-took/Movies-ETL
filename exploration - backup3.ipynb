{
 "cells": [
  {
   "cell_type": "code",
   "execution_count": 1,
   "id": "cf6e6f88",
   "metadata": {},
   "outputs": [],
   "source": [
    "import json\n",
    "import pandas as pd\n",
    "import numpy as np"
   ]
  },
  {
   "cell_type": "code",
   "execution_count": 2,
   "id": "57985732",
   "metadata": {},
   "outputs": [],
   "source": [
    "# changed and escaped slashes in path, as i'm on windows\n",
    "file_dir = \"C:\\\\Users\\\\me\\\\Desktop\\\\0 berbooca\\\\github\\\\Movies-ETL\\\\\""
   ]
  },
  {
   "cell_type": "markdown",
   "id": "8d618b42",
   "metadata": {},
   "source": [
    "### wikimedia"
   ]
  },
  {
   "cell_type": "code",
   "execution_count": 3,
   "id": "e0fab0dc",
   "metadata": {},
   "outputs": [],
   "source": [
    "raw_file = f\"{file_dir}wikipedia-movies.json\"\n",
    "with open(raw_file, mode='r') as file:\n",
    "    wiki_movies_raw = json.load(file)"
   ]
  },
  {
   "cell_type": "code",
   "execution_count": null,
   "id": "c0ba0b4a",
   "metadata": {},
   "outputs": [],
   "source": [
    "# initial exploration, not needed later\n",
    "print(f\"wiki_movies_raw has {len(wiki_movies_raw)} records\")\n",
    "print(f\"wiki_movies_raw is a {type(wiki_movies_raw)}\")\n",
    "wiki_movies_raw[3358]"
   ]
  },
  {
   "cell_type": "code",
   "execution_count": null,
   "id": "1a5001ce",
   "metadata": {},
   "outputs": [],
   "source": [
    "# initial exploration, not needed later\n",
    "wiki_movies_df = pd.DataFrame(wiki_movies_raw)"
   ]
  },
  {
   "cell_type": "code",
   "execution_count": null,
   "id": "746a429e",
   "metadata": {},
   "outputs": [],
   "source": [
    "# initial exploration, not needed later\n",
    "col_list = wiki_movies_df.columns.tolist()\n",
    "print(f\"this dataframe got {len(col_list)} columns - too many!\")"
   ]
  },
  {
   "cell_type": "code",
   "execution_count": 4,
   "id": "13f64e67",
   "metadata": {},
   "outputs": [
    {
     "data": {
      "text/plain": [
       "7076"
      ]
     },
     "execution_count": 4,
     "metadata": {},
     "output_type": "execute_result"
    }
   ],
   "source": [
    "# as suggested by module\n",
    "wiki_movies = [movie for movie in wiki_movies_raw\n",
    "               if ('Director' in movie or 'Directed by' in movie)\n",
    "                   and 'imdb_link' in movie\n",
    "                   and 'No. of episodes' not in movie]\n",
    "\n",
    "len(wiki_movies)\n",
    "# lost 311+24 = 335"
   ]
  },
  {
   "cell_type": "code",
   "execution_count": 5,
   "id": "e90b9088",
   "metadata": {},
   "outputs": [
    {
     "name": "stdout",
     "output_type": "stream",
     "text": [
      "now we got 75 columns, and here they are\n"
     ]
    },
    {
     "data": {
      "text/plain": [
       "['url',\n",
       " 'year',\n",
       " 'imdb_link',\n",
       " 'title',\n",
       " 'Directed by',\n",
       " 'Produced by',\n",
       " 'Screenplay by',\n",
       " 'Story by',\n",
       " 'Based on',\n",
       " 'Starring',\n",
       " 'Narrated by',\n",
       " 'Music by',\n",
       " 'Cinematography',\n",
       " 'Edited by',\n",
       " 'Productioncompany ',\n",
       " 'Distributed by',\n",
       " 'Release date',\n",
       " 'Running time',\n",
       " 'Country',\n",
       " 'Language',\n",
       " 'Budget',\n",
       " 'Box office',\n",
       " 'Written by',\n",
       " 'Genre',\n",
       " 'Theme music composer',\n",
       " 'Country of origin',\n",
       " 'Original language(s)',\n",
       " 'Producer(s)',\n",
       " 'Editor(s)',\n",
       " 'Production company(s)',\n",
       " 'Original network',\n",
       " 'Original release',\n",
       " 'Productioncompanies ',\n",
       " 'Executive producer(s)',\n",
       " 'Production location(s)',\n",
       " 'Distributor',\n",
       " 'Picture format',\n",
       " 'Audio format',\n",
       " 'Voices of',\n",
       " 'Followed by',\n",
       " 'Composer(s)',\n",
       " 'Created by',\n",
       " 'Preceded by',\n",
       " 'Adaptation by',\n",
       " 'Suggested by',\n",
       " 'Traditional',\n",
       " 'Mandarin',\n",
       " 'Released',\n",
       " 'Recorded',\n",
       " 'Venue',\n",
       " 'Length',\n",
       " 'Label',\n",
       " 'Director',\n",
       " 'Producer',\n",
       " 'Also known as',\n",
       " 'Animation by',\n",
       " 'Color process',\n",
       " 'Simplified',\n",
       " 'French',\n",
       " 'Screen story by',\n",
       " 'Hangul',\n",
       " 'Revised Romanization',\n",
       " 'McCune–Reischauer',\n",
       " 'Original title',\n",
       " 'Japanese',\n",
       " 'Hepburn',\n",
       " 'Literally',\n",
       " 'Cantonese',\n",
       " 'Chinese',\n",
       " 'Yiddish',\n",
       " 'Arabic',\n",
       " 'Romanized',\n",
       " 'Russian',\n",
       " 'Hebrew',\n",
       " 'Polish']"
      ]
     },
     "execution_count": 5,
     "metadata": {},
     "output_type": "execute_result"
    }
   ],
   "source": [
    "wiki_movies_df = pd.DataFrame(wiki_movies)\n",
    "col_list = wiki_movies_df.columns.tolist()\n",
    "print(f\"now we got {len(col_list)} columns, and here they are\")\n",
    "col_list"
   ]
  },
  {
   "cell_type": "code",
   "execution_count": null,
   "id": "5ccf5d9c",
   "metadata": {},
   "outputs": [],
   "source": [
    "wiki_movies_df[\"Starring\"]\n",
    "# beware, beware: mutable entries in a df are passed-by-reference, even with .copy() !!"
   ]
  },
  {
   "cell_type": "code",
   "execution_count": null,
   "id": "42196337",
   "metadata": {},
   "outputs": [],
   "source": [
    "wiki_cts = wiki_movies_df.count().sort_values(ascending=False)\n",
    "wiki_cts_df = pd.DataFrame(wiki_cts)\n",
    "wiki_cts_df.to_csv('wikicounts.csv')\n",
    "wiki_cts.to_dict()"
   ]
  },
  {
   "cell_type": "code",
   "execution_count": null,
   "id": "8b96cd56",
   "metadata": {
    "scrolled": false
   },
   "outputs": [],
   "source": [
    "# freak entry with no title, should be \"Jacob\"\n",
    "jacob = wiki_movies_df[wiki_movies_df[\"title\"].isna()].T\n",
    "jacob[jacob[996].isna() == False]"
   ]
  },
  {
   "cell_type": "code",
   "execution_count": null,
   "id": "e89427dd",
   "metadata": {},
   "outputs": [],
   "source": [
    "# result of my investigation, matches what module gives :)\n",
    "other_title_columns = ['Traditional', 'Simplified', 'Hepburn', 'Japanese', 'Mandarin',\n",
    " 'McCune–Reischauer', 'Revised Romanization', 'Hangul', 'Arabic', 'Romanized', 'Russian',\n",
    " 'Yiddish', 'Cantonese', 'Chinese', 'Hebrew', 'Original title', 'French', 'Also known as',\n",
    " 'Polish', \"Literally\"]"
   ]
  },
  {
   "cell_type": "code",
   "execution_count": null,
   "id": "b1336010",
   "metadata": {},
   "outputs": [],
   "source": [
    "wiki_movies_df[\"has alt title\"] = False\n",
    "for alt_title in other_title_columns:\n",
    "    wiki_movies_df.loc[wiki_movies_df[alt_title].notnull(), [\"has alt title\"]] = True\n",
    "wiki_movies_df[\"has alt title\"].sum()"
   ]
  },
  {
   "cell_type": "code",
   "execution_count": null,
   "id": "77bd64c6",
   "metadata": {},
   "outputs": [],
   "source": [
    "wiki_movies_df[\"Literally\"].value_counts()"
   ]
  },
  {
   "cell_type": "code",
   "execution_count": null,
   "id": "e95a97f5",
   "metadata": {},
   "outputs": [],
   "source": []
  },
  {
   "cell_type": "code",
   "execution_count": null,
   "id": "35763030",
   "metadata": {},
   "outputs": [],
   "source": []
  },
  {
   "cell_type": "code",
   "execution_count": null,
   "id": "33dd6dfa",
   "metadata": {},
   "outputs": [],
   "source": [
    "# ain't gonna redefine the balue of the input variable, that'll confusel me!\n",
    "def clean_movie(movie):\n",
    "    cp_movie = dict(movie) #create a non-destructive copy\n",
    "    alt_titles_dict = {}\n",
    "    for kee in other_title_columns:\n",
    "        if kee in cp_movie:\n",
    "            alt_titles_dict[kee] = cp_movie[kee]\n",
    "            cp_movie.pop(kee)\n",
    "    if len(alt_titles_dict) > 0:\n",
    "        cp_movie[\"other titles\"] = alt_titles_dict\n",
    "    return cp_movie"
   ]
  },
  {
   "cell_type": "code",
   "execution_count": null,
   "id": "7cc6e110",
   "metadata": {},
   "outputs": [],
   "source": [
    "clean_movies = [clean_movie(movie) for movie in wiki_movies]"
   ]
  },
  {
   "cell_type": "code",
   "execution_count": null,
   "id": "4845df13",
   "metadata": {},
   "outputs": [],
   "source": [
    "wiki_movies_df = pd.DataFrame(clean_movies)\n",
    "wiki_cts = wiki_movies_df.count().sort_values(ascending=False)\n",
    "wiki_cts_df = pd.DataFrame(wiki_cts)\n",
    "print(len(wiki_cts_df))\n",
    "wiki_cts.to_dict()"
   ]
  },
  {
   "cell_type": "code",
   "execution_count": null,
   "id": "8fb16b2c",
   "metadata": {},
   "outputs": [],
   "source": []
  },
  {
   "cell_type": "code",
   "execution_count": null,
   "id": "876348c4",
   "metadata": {},
   "outputs": [],
   "source": []
  },
  {
   "cell_type": "code",
   "execution_count": null,
   "id": "f03ffd91",
   "metadata": {},
   "outputs": [],
   "source": []
  },
  {
   "cell_type": "code",
   "execution_count": null,
   "id": "4b5ce1b9",
   "metadata": {},
   "outputs": [],
   "source": []
  },
  {
   "cell_type": "code",
   "execution_count": null,
   "id": "ebade9f3",
   "metadata": {},
   "outputs": [],
   "source": []
  },
  {
   "cell_type": "markdown",
   "id": "fc6a748c",
   "metadata": {},
   "source": [
    "### kaggle"
   ]
  },
  {
   "cell_type": "code",
   "execution_count": null,
   "id": "2b5231ed",
   "metadata": {},
   "outputs": [],
   "source": [
    "kaggle_metadata = pd.read_csv(f'{file_dir}movies_metadata.csv', low_memory=False)\n",
    "ratings = pd.read_csv(f'{file_dir}ratings.csv')"
   ]
  },
  {
   "cell_type": "code",
   "execution_count": null,
   "id": "f79e9243",
   "metadata": {},
   "outputs": [],
   "source": [
    "ratings.sample(3)"
   ]
  },
  {
   "cell_type": "code",
   "execution_count": null,
   "id": "23852ee8",
   "metadata": {},
   "outputs": [],
   "source": [
    "kaggle_metadata.sample(3)"
   ]
  },
  {
   "cell_type": "code",
   "execution_count": null,
   "id": "1de7a1f9",
   "metadata": {},
   "outputs": [],
   "source": [
    "kaggle_metadata.count()"
   ]
  },
  {
   "cell_type": "code",
   "execution_count": null,
   "id": "19c59122",
   "metadata": {},
   "outputs": [],
   "source": [
    "kaggle_metadata.dtypes"
   ]
  },
  {
   "cell_type": "code",
   "execution_count": null,
   "id": "25028c8f",
   "metadata": {},
   "outputs": [],
   "source": [
    "kaggle_metadata[kaggle_metadata[\"vote_count\"].isna()]"
   ]
  },
  {
   "cell_type": "code",
   "execution_count": null,
   "id": "9da351be",
   "metadata": {},
   "outputs": [],
   "source": []
  }
 ],
 "metadata": {
  "kernelspec": {
   "display_name": "Python 3 (ipykernel)",
   "language": "python",
   "name": "python3"
  },
  "language_info": {
   "codemirror_mode": {
    "name": "ipython",
    "version": 3
   },
   "file_extension": ".py",
   "mimetype": "text/x-python",
   "name": "python",
   "nbconvert_exporter": "python",
   "pygments_lexer": "ipython3",
   "version": "3.7.13"
  }
 },
 "nbformat": 4,
 "nbformat_minor": 5
}
