{
 "cells": [
  {
   "cell_type": "code",
   "execution_count": 1,
   "id": "cf6e6f88",
   "metadata": {},
   "outputs": [],
   "source": [
    "import json\n",
    "import pandas as pd\n",
    "import numpy as np"
   ]
  },
  {
   "cell_type": "code",
   "execution_count": 2,
   "id": "57985732",
   "metadata": {},
   "outputs": [],
   "source": [
    "# changed and escaped slashes in path, as i'm on windows\n",
    "file_dir = \"C:\\\\Users\\\\me\\\\Desktop\\\\0 berbooca\\\\github\\\\Movies-ETL\\\\\""
   ]
  },
  {
   "cell_type": "markdown",
   "id": "6ea1bb3a",
   "metadata": {},
   "source": [
    "### wikimedia"
   ]
  },
  {
   "cell_type": "code",
   "execution_count": 3,
   "id": "e0fab0dc",
   "metadata": {},
   "outputs": [],
   "source": [
    "raw_file = f\"{file_dir}wikipedia-movies.json\""
   ]
  },
  {
   "cell_type": "code",
   "execution_count": 4,
   "id": "d294c41f",
   "metadata": {},
   "outputs": [],
   "source": [
    "with open(raw_file, mode='r') as file:\n",
    "    wiki_movies_raw = json.load(file)"
   ]
  },
  {
   "cell_type": "code",
   "execution_count": 7,
   "id": "c0ba0b4a",
   "metadata": {},
   "outputs": [
    {
     "data": {
      "text/plain": [
       "7311"
      ]
     },
     "execution_count": 7,
     "metadata": {},
     "output_type": "execute_result"
    }
   ],
   "source": [
    "len(wiki_movies_raw)"
   ]
  },
  {
   "cell_type": "code",
   "execution_count": 8,
   "id": "d8a9e6c1",
   "metadata": {},
   "outputs": [
    {
     "data": {
      "text/plain": [
       "list"
      ]
     },
     "execution_count": 8,
     "metadata": {},
     "output_type": "execute_result"
    }
   ],
   "source": [
    "type(wiki_movies_raw)"
   ]
  },
  {
   "cell_type": "code",
   "execution_count": 10,
   "id": "9c99a247",
   "metadata": {},
   "outputs": [
    {
     "data": {
      "text/plain": [
       "{'url': 'https://en.wikipedia.org/wiki/Enemy_of_the_State_(film)',\n",
       " 'year': 1998,\n",
       " 'imdb_link': 'https://www.imdb.com/title/tt0120660/',\n",
       " 'title': 'Enemy of the State',\n",
       " 'Directed by': 'Tony Scott',\n",
       " 'Produced by': 'Jerry Bruckheimer',\n",
       " 'Written by': 'David Marconi',\n",
       " 'Starring': ['Will Smith',\n",
       "  'Gene Hackman',\n",
       "  'Jon Voight',\n",
       "  'Regina King',\n",
       "  'Loren Dean',\n",
       "  'Jack Black',\n",
       "  'Seth Green',\n",
       "  'Jake Busey',\n",
       "  'Scott Caan',\n",
       "  'Barry Pepper',\n",
       "  'Jamie Kennedy',\n",
       "  'Gabriel Byrne'],\n",
       " 'Music by': ['Harry Gregson-Williams', '[1]', 'Trevor Rabin'],\n",
       " 'Cinematography': 'Dan Mindel',\n",
       " 'Edited by': 'Chris Lebenzon',\n",
       " 'Productioncompany ': ['Touchstone Pictures',\n",
       "  'Jerry Bruckheimer Films',\n",
       "  'Scott Free Productions'],\n",
       " 'Distributed by': 'Buena Vista Pictures',\n",
       " 'Release date': ['November 20, 1998', '(', '1998-11-20', ')'],\n",
       " 'Running time': '132 minutes',\n",
       " 'Country': 'United States',\n",
       " 'Language': 'English',\n",
       " 'Budget': '$90 million',\n",
       " 'Box office': '$250.6 million'}"
      ]
     },
     "execution_count": 10,
     "metadata": {},
     "output_type": "execute_result"
    }
   ],
   "source": [
    "wiki_movies_raw[2288]"
   ]
  },
  {
   "cell_type": "code",
   "execution_count": 17,
   "id": "afb6cf82",
   "metadata": {},
   "outputs": [],
   "source": [
    "wiki_movies_df = pd.DataFrame(wiki_movies_raw)"
   ]
  },
  {
   "cell_type": "code",
   "execution_count": 20,
   "id": "70fbff3f",
   "metadata": {},
   "outputs": [],
   "source": [
    "col_list = wiki_movies_df.columns.tolist()"
   ]
  },
  {
   "cell_type": "code",
   "execution_count": 21,
   "id": "9ee2e7b4",
   "metadata": {},
   "outputs": [
    {
     "data": {
      "text/plain": [
       "193"
      ]
     },
     "execution_count": 21,
     "metadata": {},
     "output_type": "execute_result"
    }
   ],
   "source": [
    "len(col_list)"
   ]
  },
  {
   "cell_type": "code",
   "execution_count": 22,
   "id": "2f7f4742",
   "metadata": {},
   "outputs": [
    {
     "data": {
      "text/plain": [
       "7100"
      ]
     },
     "execution_count": 22,
     "metadata": {},
     "output_type": "execute_result"
    }
   ],
   "source": [
    "wiki_movies_df[\"imdb_link\"].count()\n",
    "# i think this means 7100 out of 7311 rows have imdb links; i assume the rest are NaN"
   ]
  },
  {
   "cell_type": "code",
   "execution_count": 23,
   "id": "4da81e54",
   "metadata": {},
   "outputs": [
    {
     "data": {
      "text/plain": [
       "(2, 7103)"
      ]
     },
     "execution_count": 23,
     "metadata": {},
     "output_type": "execute_result"
    }
   ],
   "source": [
    "wiki_movies_df[\"Director\"].count(), wiki_movies_df[\"Directed by\"].count()\n",
    "# i think this says only 2 rows have a \"Director\" entry, but 7103 have \"Directed by\" entry"
   ]
  },
  {
   "cell_type": "code",
   "execution_count": 24,
   "id": "4b1b297e",
   "metadata": {},
   "outputs": [],
   "source": [
    "noimdb_df = wiki_movies_df[wiki_movies_df[\"imdb_link\"].isna()]"
   ]
  },
  {
   "cell_type": "code",
   "execution_count": 25,
   "id": "c335d355",
   "metadata": {},
   "outputs": [
    {
     "data": {
      "text/plain": [
       "211"
      ]
     },
     "execution_count": 25,
     "metadata": {},
     "output_type": "execute_result"
    }
   ],
   "source": [
    "len(noimdb_df)"
   ]
  },
  {
   "cell_type": "code",
   "execution_count": 28,
   "id": "5f7954a7",
   "metadata": {},
   "outputs": [
    {
     "data": {
      "text/plain": [
       "0"
      ]
     },
     "execution_count": 28,
     "metadata": {},
     "output_type": "execute_result"
    }
   ],
   "source": [
    "noimdb_df[\"Director\"].count()\n",
    "# 25 have \"Directed by\", 0 have \"Director\""
   ]
  },
  {
   "cell_type": "markdown",
   "id": "d4a28f71",
   "metadata": {},
   "source": [
    "So, removing ones without director/directed-by, and without imdb link, will only drop ~250 records."
   ]
  },
  {
   "cell_type": "code",
   "execution_count": 29,
   "id": "f8d60152",
   "metadata": {},
   "outputs": [],
   "source": [
    "wiki_movies = [movie for movie in wiki_movies_raw\n",
    "               if ('Director' in movie or 'Directed by' in movie)\n",
    "                   and 'imdb_link' in movie\n",
    "                   and 'No. of episodes' not in movie]"
   ]
  },
  {
   "cell_type": "code",
   "execution_count": 30,
   "id": "156a1204",
   "metadata": {},
   "outputs": [
    {
     "data": {
      "text/plain": [
       "7076"
      ]
     },
     "execution_count": 30,
     "metadata": {},
     "output_type": "execute_result"
    }
   ],
   "source": [
    "len(wiki_movies)\n",
    "# lost 311+24 = 335"
   ]
  },
  {
   "cell_type": "code",
   "execution_count": 31,
   "id": "32fb70b7",
   "metadata": {},
   "outputs": [],
   "source": [
    "wiki_movies_df = pd.DataFrame(wiki_movies)"
   ]
  },
  {
   "cell_type": "code",
   "execution_count": 32,
   "id": "24e0d53c",
   "metadata": {},
   "outputs": [
    {
     "data": {
      "text/plain": [
       "Index(['url', 'year', 'imdb_link', 'title', 'Directed by', 'Produced by',\n",
       "       'Screenplay by', 'Story by', 'Based on', 'Starring', 'Narrated by',\n",
       "       'Music by', 'Cinematography', 'Edited by', 'Productioncompany ',\n",
       "       'Distributed by', 'Release date', 'Running time', 'Country', 'Language',\n",
       "       'Budget', 'Box office', 'Written by', 'Genre', 'Theme music composer',\n",
       "       'Country of origin', 'Original language(s)', 'Producer(s)', 'Editor(s)',\n",
       "       'Production company(s)', 'Original network', 'Original release',\n",
       "       'Productioncompanies ', 'Executive producer(s)',\n",
       "       'Production location(s)', 'Distributor', 'Picture format',\n",
       "       'Audio format', 'Voices of', 'Followed by', 'Composer(s)', 'Created by',\n",
       "       'Preceded by', 'Adaptation by', 'Suggested by', 'Traditional',\n",
       "       'Mandarin', 'Released', 'Recorded', 'Venue', 'Length', 'Label',\n",
       "       'Director', 'Producer', 'Also known as', 'Animation by',\n",
       "       'Color process', 'Simplified', 'French', 'Screen story by', 'Hangul',\n",
       "       'Revised Romanization', 'McCune–Reischauer', 'Original title',\n",
       "       'Japanese', 'Hepburn', 'Literally', 'Cantonese', 'Chinese', 'Yiddish',\n",
       "       'Arabic', 'Romanized', 'Russian', 'Hebrew', 'Polish'],\n",
       "      dtype='object')"
      ]
     },
     "execution_count": 32,
     "metadata": {},
     "output_type": "execute_result"
    }
   ],
   "source": [
    "wiki_movies_df.columns"
   ]
  },
  {
   "cell_type": "code",
   "execution_count": 40,
   "id": "92dc705a",
   "metadata": {},
   "outputs": [
    {
     "data": {
      "text/plain": [
       "0       [Andrew Dice Clay, Wayne Newton, Priscilla Pre...\n",
       "1       [Jason Patric, Rachel Ward, Bruce Dern, George...\n",
       "2       [Mel Gibson, Robert Downey Jr., Nancy Travis, ...\n",
       "3       [Alec Baldwin, Blythe Danner, Judy Davis, Mia ...\n",
       "4             [Paul Hogan, Elias Koteas, Linda Kozlowski]\n",
       "                              ...                        \n",
       "7071    [Will Ferrell, John C. Reilly, Rebecca Hall, R...\n",
       "7072    [Christian Bale, Amy Adams, Steve Carell, Sam ...\n",
       "7073    [Felicity Jones, Armie Hammer, Justin Theroux,...\n",
       "7074    [Nicole Kidman, Sebastian Stan, Toby Kebbell, ...\n",
       "7075    [Fionn Whitehead, Will Poulter, Craig Parkinso...\n",
       "Name: Starring, Length: 7076, dtype: object"
      ]
     },
     "execution_count": 40,
     "metadata": {},
     "output_type": "execute_result"
    }
   ],
   "source": [
    "wiki_movies_df[\"Starring\"]\n",
    "# beware, beware: these are passed-by-reference, even with .copy() !!"
   ]
  },
  {
   "cell_type": "code",
   "execution_count": null,
   "id": "9b3eabe2",
   "metadata": {},
   "outputs": [],
   "source": []
  },
  {
   "cell_type": "code",
   "execution_count": null,
   "id": "0433e02d",
   "metadata": {},
   "outputs": [],
   "source": []
  },
  {
   "cell_type": "code",
   "execution_count": null,
   "id": "ec35ea47",
   "metadata": {},
   "outputs": [],
   "source": []
  },
  {
   "cell_type": "markdown",
   "id": "fd7ec262",
   "metadata": {},
   "source": [
    "### kaggle"
   ]
  },
  {
   "cell_type": "code",
   "execution_count": 5,
   "id": "a48fe634",
   "metadata": {},
   "outputs": [],
   "source": [
    "kaggle_metadata = pd.read_csv(f'{file_dir}movies_metadata.csv', low_memory=False)\n",
    "ratings = pd.read_csv(f'{file_dir}ratings.csv')"
   ]
  },
  {
   "cell_type": "code",
   "execution_count": 6,
   "id": "86632976",
   "metadata": {},
   "outputs": [
    {
     "data": {
      "text/html": [
       "<div>\n",
       "<style scoped>\n",
       "    .dataframe tbody tr th:only-of-type {\n",
       "        vertical-align: middle;\n",
       "    }\n",
       "\n",
       "    .dataframe tbody tr th {\n",
       "        vertical-align: top;\n",
       "    }\n",
       "\n",
       "    .dataframe thead th {\n",
       "        text-align: right;\n",
       "    }\n",
       "</style>\n",
       "<table border=\"1\" class=\"dataframe\">\n",
       "  <thead>\n",
       "    <tr style=\"text-align: right;\">\n",
       "      <th></th>\n",
       "      <th>userId</th>\n",
       "      <th>movieId</th>\n",
       "      <th>rating</th>\n",
       "      <th>timestamp</th>\n",
       "    </tr>\n",
       "  </thead>\n",
       "  <tbody>\n",
       "    <tr>\n",
       "      <th>9213426</th>\n",
       "      <td>95117</td>\n",
       "      <td>616</td>\n",
       "      <td>3.0</td>\n",
       "      <td>835801027</td>\n",
       "    </tr>\n",
       "    <tr>\n",
       "      <th>10751505</th>\n",
       "      <td>111002</td>\n",
       "      <td>2918</td>\n",
       "      <td>1.0</td>\n",
       "      <td>1138705003</td>\n",
       "    </tr>\n",
       "    <tr>\n",
       "      <th>18854189</th>\n",
       "      <td>195800</td>\n",
       "      <td>4993</td>\n",
       "      <td>5.0</td>\n",
       "      <td>1482157574</td>\n",
       "    </tr>\n",
       "  </tbody>\n",
       "</table>\n",
       "</div>"
      ],
      "text/plain": [
       "          userId  movieId  rating   timestamp\n",
       "9213426    95117      616     3.0   835801027\n",
       "10751505  111002     2918     1.0  1138705003\n",
       "18854189  195800     4993     5.0  1482157574"
      ]
     },
     "execution_count": 6,
     "metadata": {},
     "output_type": "execute_result"
    }
   ],
   "source": [
    "ratings.sample(3)"
   ]
  },
  {
   "cell_type": "code",
   "execution_count": 7,
   "id": "e7c9750f",
   "metadata": {},
   "outputs": [
    {
     "data": {
      "text/html": [
       "<div>\n",
       "<style scoped>\n",
       "    .dataframe tbody tr th:only-of-type {\n",
       "        vertical-align: middle;\n",
       "    }\n",
       "\n",
       "    .dataframe tbody tr th {\n",
       "        vertical-align: top;\n",
       "    }\n",
       "\n",
       "    .dataframe thead th {\n",
       "        text-align: right;\n",
       "    }\n",
       "</style>\n",
       "<table border=\"1\" class=\"dataframe\">\n",
       "  <thead>\n",
       "    <tr style=\"text-align: right;\">\n",
       "      <th></th>\n",
       "      <th>adult</th>\n",
       "      <th>belongs_to_collection</th>\n",
       "      <th>budget</th>\n",
       "      <th>genres</th>\n",
       "      <th>homepage</th>\n",
       "      <th>id</th>\n",
       "      <th>imdb_id</th>\n",
       "      <th>original_language</th>\n",
       "      <th>original_title</th>\n",
       "      <th>overview</th>\n",
       "      <th>...</th>\n",
       "      <th>release_date</th>\n",
       "      <th>revenue</th>\n",
       "      <th>runtime</th>\n",
       "      <th>spoken_languages</th>\n",
       "      <th>status</th>\n",
       "      <th>tagline</th>\n",
       "      <th>title</th>\n",
       "      <th>video</th>\n",
       "      <th>vote_average</th>\n",
       "      <th>vote_count</th>\n",
       "    </tr>\n",
       "  </thead>\n",
       "  <tbody>\n",
       "    <tr>\n",
       "      <th>29349</th>\n",
       "      <td>False</td>\n",
       "      <td>NaN</td>\n",
       "      <td>3673315</td>\n",
       "      <td>[{'id': 27, 'name': 'Horror'}, {'id': 18, 'nam...</td>\n",
       "      <td>http://www.alleluia-lefilm.com/</td>\n",
       "      <td>269776</td>\n",
       "      <td>tt3218580</td>\n",
       "      <td>fr</td>\n",
       "      <td>Alléluia</td>\n",
       "      <td>Michel, a murderous womanizer, meets introvert...</td>\n",
       "      <td>...</td>\n",
       "      <td>2014-05-14</td>\n",
       "      <td>0.0</td>\n",
       "      <td>93.0</td>\n",
       "      <td>[{'iso_639_1': 'es', 'name': 'Español'}, {'iso...</td>\n",
       "      <td>Released</td>\n",
       "      <td>Fervidly dark lovesick horror inspired by the ...</td>\n",
       "      <td>Alléluia</td>\n",
       "      <td>False</td>\n",
       "      <td>6.3</td>\n",
       "      <td>24.0</td>\n",
       "    </tr>\n",
       "    <tr>\n",
       "      <th>33065</th>\n",
       "      <td>False</td>\n",
       "      <td>NaN</td>\n",
       "      <td>0</td>\n",
       "      <td>[{'id': 53, 'name': 'Thriller'}, {'id': 27, 'n...</td>\n",
       "      <td>NaN</td>\n",
       "      <td>353686</td>\n",
       "      <td>tt2954474</td>\n",
       "      <td>en</td>\n",
       "      <td>Visions</td>\n",
       "      <td>After moving to a vineyard with her family, a ...</td>\n",
       "      <td>...</td>\n",
       "      <td>2015-08-28</td>\n",
       "      <td>0.0</td>\n",
       "      <td>80.0</td>\n",
       "      <td>[{'iso_639_1': 'es', 'name': 'Español'}, {'iso...</td>\n",
       "      <td>Released</td>\n",
       "      <td>Blood will stain the land.</td>\n",
       "      <td>Visions</td>\n",
       "      <td>False</td>\n",
       "      <td>5.2</td>\n",
       "      <td>130.0</td>\n",
       "    </tr>\n",
       "    <tr>\n",
       "      <th>27631</th>\n",
       "      <td>False</td>\n",
       "      <td>NaN</td>\n",
       "      <td>0</td>\n",
       "      <td>[{'id': 18, 'name': 'Drama'}, {'id': 878, 'nam...</td>\n",
       "      <td>NaN</td>\n",
       "      <td>222870</td>\n",
       "      <td>tt0116319</td>\n",
       "      <td>en</td>\n",
       "      <td>Subliminal Seduction</td>\n",
       "      <td>Darrin Danver is married to Deb. He is a video...</td>\n",
       "      <td>...</td>\n",
       "      <td>1996-01-01</td>\n",
       "      <td>0.0</td>\n",
       "      <td>81.0</td>\n",
       "      <td>[]</td>\n",
       "      <td>Released</td>\n",
       "      <td>NaN</td>\n",
       "      <td>Subliminal Seduction</td>\n",
       "      <td>False</td>\n",
       "      <td>4.0</td>\n",
       "      <td>3.0</td>\n",
       "    </tr>\n",
       "  </tbody>\n",
       "</table>\n",
       "<p>3 rows × 24 columns</p>\n",
       "</div>"
      ],
      "text/plain": [
       "       adult belongs_to_collection   budget  \\\n",
       "29349  False                   NaN  3673315   \n",
       "33065  False                   NaN        0   \n",
       "27631  False                   NaN        0   \n",
       "\n",
       "                                                  genres  \\\n",
       "29349  [{'id': 27, 'name': 'Horror'}, {'id': 18, 'nam...   \n",
       "33065  [{'id': 53, 'name': 'Thriller'}, {'id': 27, 'n...   \n",
       "27631  [{'id': 18, 'name': 'Drama'}, {'id': 878, 'nam...   \n",
       "\n",
       "                              homepage      id    imdb_id original_language  \\\n",
       "29349  http://www.alleluia-lefilm.com/  269776  tt3218580                fr   \n",
       "33065                              NaN  353686  tt2954474                en   \n",
       "27631                              NaN  222870  tt0116319                en   \n",
       "\n",
       "             original_title  \\\n",
       "29349              Alléluia   \n",
       "33065               Visions   \n",
       "27631  Subliminal Seduction   \n",
       "\n",
       "                                                overview  ... release_date  \\\n",
       "29349  Michel, a murderous womanizer, meets introvert...  ...   2014-05-14   \n",
       "33065  After moving to a vineyard with her family, a ...  ...   2015-08-28   \n",
       "27631  Darrin Danver is married to Deb. He is a video...  ...   1996-01-01   \n",
       "\n",
       "      revenue runtime                                   spoken_languages  \\\n",
       "29349     0.0    93.0  [{'iso_639_1': 'es', 'name': 'Español'}, {'iso...   \n",
       "33065     0.0    80.0  [{'iso_639_1': 'es', 'name': 'Español'}, {'iso...   \n",
       "27631     0.0    81.0                                                 []   \n",
       "\n",
       "         status                                            tagline  \\\n",
       "29349  Released  Fervidly dark lovesick horror inspired by the ...   \n",
       "33065  Released                         Blood will stain the land.   \n",
       "27631  Released                                                NaN   \n",
       "\n",
       "                      title  video vote_average vote_count  \n",
       "29349              Alléluia  False          6.3       24.0  \n",
       "33065               Visions  False          5.2      130.0  \n",
       "27631  Subliminal Seduction  False          4.0        3.0  \n",
       "\n",
       "[3 rows x 24 columns]"
      ]
     },
     "execution_count": 7,
     "metadata": {},
     "output_type": "execute_result"
    }
   ],
   "source": [
    "kaggle_metadata.sample(3)"
   ]
  },
  {
   "cell_type": "code",
   "execution_count": 10,
   "id": "7a4bac0b",
   "metadata": {},
   "outputs": [
    {
     "data": {
      "text/plain": [
       "adult                    45466\n",
       "belongs_to_collection     4494\n",
       "budget                   45466\n",
       "genres                   45466\n",
       "homepage                  7782\n",
       "id                       45466\n",
       "imdb_id                  45449\n",
       "original_language        45455\n",
       "original_title           45466\n",
       "overview                 44512\n",
       "popularity               45461\n",
       "poster_path              45080\n",
       "production_companies     45463\n",
       "production_countries     45463\n",
       "release_date             45379\n",
       "revenue                  45460\n",
       "runtime                  45203\n",
       "spoken_languages         45460\n",
       "status                   45379\n",
       "tagline                  20412\n",
       "title                    45460\n",
       "video                    45460\n",
       "vote_average             45460\n",
       "vote_count               45460\n",
       "dtype: int64"
      ]
     },
     "execution_count": 10,
     "metadata": {},
     "output_type": "execute_result"
    }
   ],
   "source": [
    "kaggle_metadata.count()"
   ]
  },
  {
   "cell_type": "code",
   "execution_count": 12,
   "id": "dcc27217",
   "metadata": {},
   "outputs": [
    {
     "data": {
      "text/plain": [
       "adult                     object\n",
       "belongs_to_collection     object\n",
       "budget                    object\n",
       "genres                    object\n",
       "homepage                  object\n",
       "id                        object\n",
       "imdb_id                   object\n",
       "original_language         object\n",
       "original_title            object\n",
       "overview                  object\n",
       "popularity                object\n",
       "poster_path               object\n",
       "production_companies      object\n",
       "production_countries      object\n",
       "release_date              object\n",
       "revenue                  float64\n",
       "runtime                  float64\n",
       "spoken_languages          object\n",
       "status                    object\n",
       "tagline                   object\n",
       "title                     object\n",
       "video                     object\n",
       "vote_average             float64\n",
       "vote_count               float64\n",
       "dtype: object"
      ]
     },
     "execution_count": 12,
     "metadata": {},
     "output_type": "execute_result"
    }
   ],
   "source": [
    "kaggle_metadata.dtypes"
   ]
  },
  {
   "cell_type": "code",
   "execution_count": 16,
   "id": "0a0f976e",
   "metadata": {},
   "outputs": [
    {
     "data": {
      "text/html": [
       "<div>\n",
       "<style scoped>\n",
       "    .dataframe tbody tr th:only-of-type {\n",
       "        vertical-align: middle;\n",
       "    }\n",
       "\n",
       "    .dataframe tbody tr th {\n",
       "        vertical-align: top;\n",
       "    }\n",
       "\n",
       "    .dataframe thead th {\n",
       "        text-align: right;\n",
       "    }\n",
       "</style>\n",
       "<table border=\"1\" class=\"dataframe\">\n",
       "  <thead>\n",
       "    <tr style=\"text-align: right;\">\n",
       "      <th></th>\n",
       "      <th>adult</th>\n",
       "      <th>belongs_to_collection</th>\n",
       "      <th>budget</th>\n",
       "      <th>genres</th>\n",
       "      <th>homepage</th>\n",
       "      <th>id</th>\n",
       "      <th>imdb_id</th>\n",
       "      <th>original_language</th>\n",
       "      <th>original_title</th>\n",
       "      <th>overview</th>\n",
       "      <th>...</th>\n",
       "      <th>release_date</th>\n",
       "      <th>revenue</th>\n",
       "      <th>runtime</th>\n",
       "      <th>spoken_languages</th>\n",
       "      <th>status</th>\n",
       "      <th>tagline</th>\n",
       "      <th>title</th>\n",
       "      <th>video</th>\n",
       "      <th>vote_average</th>\n",
       "      <th>vote_count</th>\n",
       "    </tr>\n",
       "  </thead>\n",
       "  <tbody>\n",
       "    <tr>\n",
       "      <th>19729</th>\n",
       "      <td>False</td>\n",
       "      <td>NaN</td>\n",
       "      <td>0</td>\n",
       "      <td>[{'id': 28, 'name': 'Action'}, {'id': 53, 'nam...</td>\n",
       "      <td>NaN</td>\n",
       "      <td>82663</td>\n",
       "      <td>tt0113002</td>\n",
       "      <td>en</td>\n",
       "      <td>Midnight Man</td>\n",
       "      <td>British soldiers force a recently captured IRA...</td>\n",
       "      <td>...</td>\n",
       "      <td>NaN</td>\n",
       "      <td>NaN</td>\n",
       "      <td>NaN</td>\n",
       "      <td>NaN</td>\n",
       "      <td>NaN</td>\n",
       "      <td>NaN</td>\n",
       "      <td>NaN</td>\n",
       "      <td>NaN</td>\n",
       "      <td>NaN</td>\n",
       "      <td>NaN</td>\n",
       "    </tr>\n",
       "    <tr>\n",
       "      <th>19730</th>\n",
       "      <td>- Written by Ørnås</td>\n",
       "      <td>0.065736</td>\n",
       "      <td>/ff9qCepilowshEtG2GYWwzt2bs4.jpg</td>\n",
       "      <td>[{'name': 'Carousel Productions', 'id': 11176}...</td>\n",
       "      <td>[{'iso_3166_1': 'CA', 'name': 'Canada'}, {'iso...</td>\n",
       "      <td>1997-08-20</td>\n",
       "      <td>0</td>\n",
       "      <td>104.0</td>\n",
       "      <td>[{'iso_639_1': 'en', 'name': 'English'}]</td>\n",
       "      <td>Released</td>\n",
       "      <td>...</td>\n",
       "      <td>1</td>\n",
       "      <td>NaN</td>\n",
       "      <td>NaN</td>\n",
       "      <td>NaN</td>\n",
       "      <td>NaN</td>\n",
       "      <td>NaN</td>\n",
       "      <td>NaN</td>\n",
       "      <td>NaN</td>\n",
       "      <td>NaN</td>\n",
       "      <td>NaN</td>\n",
       "    </tr>\n",
       "    <tr>\n",
       "      <th>29502</th>\n",
       "      <td>False</td>\n",
       "      <td>{'id': 122661, 'name': 'Mardock Scramble Colle...</td>\n",
       "      <td>0</td>\n",
       "      <td>[{'id': 16, 'name': 'Animation'}, {'id': 878, ...</td>\n",
       "      <td>http://m-scramble.jp/exhaust/</td>\n",
       "      <td>122662</td>\n",
       "      <td>tt2423504</td>\n",
       "      <td>ja</td>\n",
       "      <td>マルドゥック・スクランブル 排気</td>\n",
       "      <td>Third film of the Mardock Scramble series.</td>\n",
       "      <td>...</td>\n",
       "      <td>NaN</td>\n",
       "      <td>NaN</td>\n",
       "      <td>NaN</td>\n",
       "      <td>NaN</td>\n",
       "      <td>NaN</td>\n",
       "      <td>NaN</td>\n",
       "      <td>NaN</td>\n",
       "      <td>NaN</td>\n",
       "      <td>NaN</td>\n",
       "      <td>NaN</td>\n",
       "    </tr>\n",
       "    <tr>\n",
       "      <th>29503</th>\n",
       "      <td>Rune Balot goes to a casino connected to the ...</td>\n",
       "      <td>1.931659</td>\n",
       "      <td>/zV8bHuSL6WXoD6FWogP9j4x80bL.jpg</td>\n",
       "      <td>[{'name': 'Aniplex', 'id': 2883}, {'name': 'Go...</td>\n",
       "      <td>[{'iso_3166_1': 'US', 'name': 'United States o...</td>\n",
       "      <td>2012-09-29</td>\n",
       "      <td>0</td>\n",
       "      <td>68.0</td>\n",
       "      <td>[{'iso_639_1': 'ja', 'name': '日本語'}]</td>\n",
       "      <td>Released</td>\n",
       "      <td>...</td>\n",
       "      <td>12</td>\n",
       "      <td>NaN</td>\n",
       "      <td>NaN</td>\n",
       "      <td>NaN</td>\n",
       "      <td>NaN</td>\n",
       "      <td>NaN</td>\n",
       "      <td>NaN</td>\n",
       "      <td>NaN</td>\n",
       "      <td>NaN</td>\n",
       "      <td>NaN</td>\n",
       "    </tr>\n",
       "    <tr>\n",
       "      <th>35586</th>\n",
       "      <td>False</td>\n",
       "      <td>NaN</td>\n",
       "      <td>0</td>\n",
       "      <td>[{'id': 10770, 'name': 'TV Movie'}, {'id': 28,...</td>\n",
       "      <td>NaN</td>\n",
       "      <td>249260</td>\n",
       "      <td>tt2622826</td>\n",
       "      <td>en</td>\n",
       "      <td>Avalanche Sharks</td>\n",
       "      <td>A group of skiers are terrorized during spring...</td>\n",
       "      <td>...</td>\n",
       "      <td>NaN</td>\n",
       "      <td>NaN</td>\n",
       "      <td>NaN</td>\n",
       "      <td>NaN</td>\n",
       "      <td>NaN</td>\n",
       "      <td>NaN</td>\n",
       "      <td>NaN</td>\n",
       "      <td>NaN</td>\n",
       "      <td>NaN</td>\n",
       "      <td>NaN</td>\n",
       "    </tr>\n",
       "    <tr>\n",
       "      <th>35587</th>\n",
       "      <td>Avalanche Sharks tells the story of a bikini ...</td>\n",
       "      <td>2.185485</td>\n",
       "      <td>/zaSf5OG7V8X8gqFvly88zDdRm46.jpg</td>\n",
       "      <td>[{'name': 'Odyssey Media', 'id': 17161}, {'nam...</td>\n",
       "      <td>[{'iso_3166_1': 'CA', 'name': 'Canada'}]</td>\n",
       "      <td>2014-01-01</td>\n",
       "      <td>0</td>\n",
       "      <td>82.0</td>\n",
       "      <td>[{'iso_639_1': 'en', 'name': 'English'}]</td>\n",
       "      <td>Released</td>\n",
       "      <td>...</td>\n",
       "      <td>22</td>\n",
       "      <td>NaN</td>\n",
       "      <td>NaN</td>\n",
       "      <td>NaN</td>\n",
       "      <td>NaN</td>\n",
       "      <td>NaN</td>\n",
       "      <td>NaN</td>\n",
       "      <td>NaN</td>\n",
       "      <td>NaN</td>\n",
       "      <td>NaN</td>\n",
       "    </tr>\n",
       "  </tbody>\n",
       "</table>\n",
       "<p>6 rows × 24 columns</p>\n",
       "</div>"
      ],
      "text/plain": [
       "                                                   adult  \\\n",
       "19729                                              False   \n",
       "19730                                 - Written by Ørnås   \n",
       "29502                                              False   \n",
       "29503   Rune Balot goes to a casino connected to the ...   \n",
       "35586                                              False   \n",
       "35587   Avalanche Sharks tells the story of a bikini ...   \n",
       "\n",
       "                                   belongs_to_collection  \\\n",
       "19729                                                NaN   \n",
       "19730                                           0.065736   \n",
       "29502  {'id': 122661, 'name': 'Mardock Scramble Colle...   \n",
       "29503                                           1.931659   \n",
       "35586                                                NaN   \n",
       "35587                                           2.185485   \n",
       "\n",
       "                                 budget  \\\n",
       "19729                                 0   \n",
       "19730  /ff9qCepilowshEtG2GYWwzt2bs4.jpg   \n",
       "29502                                 0   \n",
       "29503  /zV8bHuSL6WXoD6FWogP9j4x80bL.jpg   \n",
       "35586                                 0   \n",
       "35587  /zaSf5OG7V8X8gqFvly88zDdRm46.jpg   \n",
       "\n",
       "                                                  genres  \\\n",
       "19729  [{'id': 28, 'name': 'Action'}, {'id': 53, 'nam...   \n",
       "19730  [{'name': 'Carousel Productions', 'id': 11176}...   \n",
       "29502  [{'id': 16, 'name': 'Animation'}, {'id': 878, ...   \n",
       "29503  [{'name': 'Aniplex', 'id': 2883}, {'name': 'Go...   \n",
       "35586  [{'id': 10770, 'name': 'TV Movie'}, {'id': 28,...   \n",
       "35587  [{'name': 'Odyssey Media', 'id': 17161}, {'nam...   \n",
       "\n",
       "                                                homepage          id  \\\n",
       "19729                                                NaN       82663   \n",
       "19730  [{'iso_3166_1': 'CA', 'name': 'Canada'}, {'iso...  1997-08-20   \n",
       "29502                      http://m-scramble.jp/exhaust/      122662   \n",
       "29503  [{'iso_3166_1': 'US', 'name': 'United States o...  2012-09-29   \n",
       "35586                                                NaN      249260   \n",
       "35587           [{'iso_3166_1': 'CA', 'name': 'Canada'}]  2014-01-01   \n",
       "\n",
       "         imdb_id original_language                            original_title  \\\n",
       "19729  tt0113002                en                              Midnight Man   \n",
       "19730          0             104.0  [{'iso_639_1': 'en', 'name': 'English'}]   \n",
       "29502  tt2423504                ja                          マルドゥック・スクランブル 排気   \n",
       "29503          0              68.0      [{'iso_639_1': 'ja', 'name': '日本語'}]   \n",
       "35586  tt2622826                en                          Avalanche Sharks   \n",
       "35587          0              82.0  [{'iso_639_1': 'en', 'name': 'English'}]   \n",
       "\n",
       "                                                overview  ... release_date  \\\n",
       "19729  British soldiers force a recently captured IRA...  ...          NaN   \n",
       "19730                                           Released  ...            1   \n",
       "29502         Third film of the Mardock Scramble series.  ...          NaN   \n",
       "29503                                           Released  ...           12   \n",
       "35586  A group of skiers are terrorized during spring...  ...          NaN   \n",
       "35587                                           Released  ...           22   \n",
       "\n",
       "      revenue runtime spoken_languages status  tagline  title video  \\\n",
       "19729     NaN     NaN              NaN    NaN      NaN    NaN   NaN   \n",
       "19730     NaN     NaN              NaN    NaN      NaN    NaN   NaN   \n",
       "29502     NaN     NaN              NaN    NaN      NaN    NaN   NaN   \n",
       "29503     NaN     NaN              NaN    NaN      NaN    NaN   NaN   \n",
       "35586     NaN     NaN              NaN    NaN      NaN    NaN   NaN   \n",
       "35587     NaN     NaN              NaN    NaN      NaN    NaN   NaN   \n",
       "\n",
       "      vote_average vote_count  \n",
       "19729          NaN        NaN  \n",
       "19730          NaN        NaN  \n",
       "29502          NaN        NaN  \n",
       "29503          NaN        NaN  \n",
       "35586          NaN        NaN  \n",
       "35587          NaN        NaN  \n",
       "\n",
       "[6 rows x 24 columns]"
      ]
     },
     "execution_count": 16,
     "metadata": {},
     "output_type": "execute_result"
    }
   ],
   "source": [
    "kaggle_metadata[kaggle_metadata[\"vote_count\"].isna()]"
   ]
  },
  {
   "cell_type": "code",
   "execution_count": null,
   "id": "1c53d204",
   "metadata": {},
   "outputs": [],
   "source": []
  }
 ],
 "metadata": {
  "kernelspec": {
   "display_name": "Python 3 (ipykernel)",
   "language": "python",
   "name": "python3"
  },
  "language_info": {
   "codemirror_mode": {
    "name": "ipython",
    "version": 3
   },
   "file_extension": ".py",
   "mimetype": "text/x-python",
   "name": "python",
   "nbconvert_exporter": "python",
   "pygments_lexer": "ipython3",
   "version": "3.7.13"
  }
 },
 "nbformat": 4,
 "nbformat_minor": 5
}
